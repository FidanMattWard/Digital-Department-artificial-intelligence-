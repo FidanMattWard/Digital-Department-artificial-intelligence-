{
 "cells": [
  {
   "cell_type": "code",
   "execution_count": 4,
   "id": "1d500ba9",
   "metadata": {},
   "outputs": [],
   "source": [
    "import random as ra\n",
    "import os\n",
    "import shutil\n",
    "import warnings\n",
    "\n",
    "warnings.filterwarnings('ignore')"
   ]
  },
  {
   "cell_type": "markdown",
   "id": "d3218c9c",
   "metadata": {},
   "source": [
    "## Задание 1"
   ]
  },
  {
   "cell_type": "code",
   "execution_count": 6,
   "id": "0148b7e9",
   "metadata": {},
   "outputs": [
    {
     "name": "stdout",
     "output_type": "stream",
     "text": [
      "10 / 4 = 2.5\n",
      "\n",
      "Деление на ноль!\n",
      "\n",
      "10 / 2 = 5.0\n",
      "\n",
      "10 / 3 = 3.3333333333333335\n",
      "\n",
      "10 / 8 = 1.25\n",
      "\n",
      "10 / 8 = 1.25\n",
      "\n",
      "10 / 8 = 1.25\n",
      "\n",
      "10 / 5 = 2.0\n",
      "\n",
      "Деление на ноль!\n",
      "\n",
      "10 / 2 = 5.0\n",
      "\n"
     ]
    }
   ],
   "source": [
    "def div_10(amount):\n",
    "    for _ in range(amount):\n",
    "        numb = ra.randrange(10)\n",
    "        try:\n",
    "            print(f'{10} / {numb} = {10 / numb}')\n",
    "        except ZeroDivisionError:\n",
    "            print('Деление на ноль!')\n",
    "        print()\n",
    "div_10(10)"
   ]
  },
  {
   "cell_type": "markdown",
   "id": "9a1b1c57",
   "metadata": {},
   "source": [
    "## Задание 2"
   ]
  },
  {
   "cell_type": "code",
   "execution_count": 22,
   "id": "09ec84c9",
   "metadata": {},
   "outputs": [
    {
     "name": "stdout",
     "output_type": "stream",
     "text": [
      "Введите строку для записи: Flat is better than nested.\n",
      "Flat is better than nested.\n",
      "\n",
      "Введите строку для записи: Errors should never pass silently.\n",
      "Flat is better than nested.\n",
      "Errors should never pass silently.\n",
      "\n",
      "Введите строку для записи: Although that way may not be obvious at first unless you're Dutch.\n",
      "Flat is better than nested.\n",
      "Errors should never pass silently.\n",
      "Although that way may not be obvious at first unless you're Dutch.\n",
      "\n",
      "Введите строку для записи: Now is better than never.\n",
      "Flat is better than nested.\n",
      "Errors should never pass silently.\n",
      "Although that way may not be obvious at first unless you're Dutch.\n",
      "Now is better than never.\n",
      "\n",
      "Введите строку для записи: Namespaces are one honking great idea -- let's do more of those!\n",
      "Flat is better than nested.\n",
      "Errors should never pass silently.\n",
      "Although that way may not be obvious at first unless you're Dutch.\n",
      "Now is better than never.\n",
      "Namespaces are one honking great idea -- let's do more of those!\n",
      "\n"
     ]
    }
   ],
   "source": [
    "def add_record():\n",
    "    with open('text_file.txt', 'a+') as file:\n",
    "        file.write(input('Введите строку для записи: ') + '\\n')\n",
    "        file.seek(0)\n",
    "        print(file.read())\n",
    "\n",
    "for _ in range(5):\n",
    "    add_record()"
   ]
  },
  {
   "cell_type": "markdown",
   "id": "f15c4a0a",
   "metadata": {},
   "source": [
    "## Задание 3"
   ]
  },
  {
   "cell_type": "code",
   "execution_count": 27,
   "id": "db43896d",
   "metadata": {},
   "outputs": [
    {
     "name": "stdout",
     "output_type": "stream",
     "text": [
      "Введите имя текстового файла: text\n",
      "Файла нет в текущей директории\n",
      "\n",
      "Введите имя текстового файла: text_file\n",
      "Flat is better than nested.\n",
      "Errors should never pass silently.\n",
      "Although that way may not be obvious at first unless you're Dutch.\n",
      "Now is better than never.\n",
      "Namespaces are one honking great idea -- let's do more of those!\n",
      "\n",
      "\n"
     ]
    }
   ],
   "source": [
    "def read_txt(name):\n",
    "    try:\n",
    "        with open(f'{name}.txt') as text_file:\n",
    "            print(text_file.read())\n",
    "    except FileNotFoundError:\n",
    "        print('Файла нет в текущей директории')\n",
    "    print()\n",
    "\n",
    "for _ in range(2):\n",
    "    read_txt(input('Введите имя текстового файла: '))"
   ]
  },
  {
   "cell_type": "markdown",
   "id": "149610e1",
   "metadata": {},
   "source": [
    "## Задание 4"
   ]
  },
  {
   "cell_type": "code",
   "execution_count": null,
   "id": "d2f4d091",
   "metadata": {},
   "outputs": [],
   "source": [
    "def copy_txt(name):\n",
    "    try:\n",
    "        with open(f'{name}.txt') as text_file:\n",
    "            \n",
    "    except FileNotFoundError:\n",
    "        print('Файла нет в текущей директории')"
   ]
  }
 ],
 "metadata": {
  "kernelspec": {
   "display_name": "Python 3 (ipykernel)",
   "language": "python",
   "name": "python3"
  },
  "language_info": {
   "codemirror_mode": {
    "name": "ipython",
    "version": 3
   },
   "file_extension": ".py",
   "mimetype": "text/x-python",
   "name": "python",
   "nbconvert_exporter": "python",
   "pygments_lexer": "ipython3",
   "version": "3.9.12"
  }
 },
 "nbformat": 4,
 "nbformat_minor": 5
}
